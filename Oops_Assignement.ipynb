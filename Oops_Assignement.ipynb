{
  "nbformat": 4,
  "nbformat_minor": 0,
  "metadata": {
    "colab": {
      "provenance": []
    },
    "kernelspec": {
      "name": "python3",
      "display_name": "Python 3"
    },
    "language_info": {
      "name": "python"
    }
  },
  "cells": [
    {
      "cell_type": "code",
      "execution_count": null,
      "metadata": {
        "id": "YNt_KivOmEmH"
      },
      "outputs": [],
      "source": [
        "# 1.  What are the five key concepts of Object-Oriented Programming (OOP)?\n",
        "\n",
        "#Ans:- The five key concepts of Object-Oriented Programming (OOP) are:\n",
        "\n",
        "# Class: A blueprint for creating objects (instances). It defines the structure and behavior that objects of the class will have, including properties (attributes) and methods (functions).\n",
        "\n",
        "# Object: An instance of a class. It represents a real-world entity with attributes and behaviors. Objects interact with one another through methods and properties.\n",
        "\n",
        "# Encapsulation: The bundling of data (attributes) and methods (functions) that operate on that data into a single unit (class). It restricts direct access to some of the object's components, which is done through access modifiers like private, public, or protected.\n",
        "\n",
        "# Inheritance: The mechanism by which one class (the child or subclass) inherits the attributes and behaviors (methods) from another class (the parent or superclass). This promotes code reuse and creates a hierarchical relationship between classes.\n",
        "\n",
        "# Polymorphism: The ability of objects of different types to be treated as instances of the same class through a common interface. This can be achieved via method overriding (same method, different implementations in subclasses) or method overloading (same method name but different parameters)."
      ]
    },
    {
      "cell_type": "code",
      "source": [
        "# 2.Write a Python class for a `Car` with attributes for `make`, `model`, and `year`. Include a method to display the car's information.\n",
        "\n",
        "class Car:\n",
        "    def __init__(self, make, model, year):\n",
        "        self.make = make\n",
        "        self.model = model\n",
        "        self.year = year\n",
        "\n",
        "    def display_info(self):\n",
        "        print(f\"Car Info: {self.year} {self.make} {self.model}\")\n",
        "\n",
        "# Example usage\n",
        "my_car = Car(\"Toyota\", \"Corolla\", 2020)\n",
        "my_car.display_info()\n",
        "\n"
      ],
      "metadata": {
        "colab": {
          "base_uri": "https://localhost:8080/"
        },
        "id": "3Sr4r4HqqYyC",
        "outputId": "f0d0efe2-2ea3-4ef8-8a01-665cdb4d55aa"
      },
      "execution_count": 1,
      "outputs": [
        {
          "output_type": "stream",
          "name": "stdout",
          "text": [
            "Car Info: 2020 Toyota Corolla\n"
          ]
        }
      ]
    },
    {
      "cell_type": "code",
      "source": [
        "# 3.. Explain the difference between instance methods and class methods. Provide an example of each .\n",
        "\n",
        "# Ans :- In Python, instance methods and class methods differ primarily in how they are called and what kind of data they have access to.\n",
        "\n",
        " # 1. Instance Methods:\n",
        "# Definition: Instance methods are functions defined within a class that operate on instances (objects) of the class. They can access and modify instance attributes.\n",
        "\n",
        "#Example :-\n",
        "class Car:\n",
        "    def __init__(self, make, model, year):\n",
        "        self.make = make\n",
        "        self.model = model\n",
        "        self.year = year\n",
        "\n",
        "    def display_info(self):\n",
        "        print(f\"Car Info: {self.year} {self.make} {self.model}\")\n",
        "\n",
        "# Example usage\n",
        "my_car = Car(\"Toyota\", \"Corolla\", 2020)\n",
        "my_car.display_info()\n",
        "\n",
        "# 2. Class Methods:\n",
        "# Definition: Class methods are functions that are bound to the class and not the instance. They can modify class-level data but not instance data.\n",
        "\n",
        "#Example:-\n",
        "\n",
        "class Car:\n",
        "    num_of_cars = 0\n",
        "\n",
        "    def __init__(self, make, model, year):\n",
        "        self.make = make\n",
        "        self.model = model\n",
        "        self.year = year\n",
        "        Car.num_of_cars += 1\n",
        "\n",
        "    @classmethod\n",
        "    def total_cars(cls):\n",
        "        print(f\"Total cars: {cls.num_of_cars}\")\n",
        "\n",
        "# Example usage\n",
        "car1 = Car(\"Toyota\", \"Corolla\", 2020)\n",
        "car2 = Car(\"Honda\", \"Civic\", 2021)\n",
        "\n",
        "Car.total_cars()\n"
      ],
      "metadata": {
        "colab": {
          "base_uri": "https://localhost:8080/"
        },
        "id": "j1t2US0gq8tg",
        "outputId": "c5d2f2b2-115c-4e77-ef57-97e235e4784a"
      },
      "execution_count": 2,
      "outputs": [
        {
          "output_type": "stream",
          "name": "stdout",
          "text": [
            "Car Info: 2020 Toyota Corolla\n",
            "Total cars: 2\n"
          ]
        }
      ]
    },
    {
      "cell_type": "code",
      "source": [
        "# 4. How does Python implement method overloading? Give an example .\n",
        "\n",
        "# Ans:- In Python, method overloading (having multiple methods with the same name but different parameter signatures) is not directly supported like it is in languages such as Java or C++. However,\n",
        "#Python achieves a similar effect using default arguments or by checking the types and number of arguments inside the method.\n",
        "\n",
        "#Example :-\n",
        "\n",
        "class Calculator:\n",
        "    def add(self, a=None, b=None, c=None):\n",
        "        if a is not None and b is not None and c is not None:\n",
        "            return a + b + c\n",
        "        elif a is not None and b is not None:\n",
        "            return a + b\n",
        "        else:\n",
        "            return \"Provide at least two numbers!\"\n",
        "\n",
        "calc = Calculator()\n",
        "\n",
        "print(calc.add(5, 10))\n",
        "\n",
        "\n",
        "print(calc.add(5, 10, 15))\n",
        "\n",
        "print(calc.add(5))\n"
      ],
      "metadata": {
        "colab": {
          "base_uri": "https://localhost:8080/"
        },
        "id": "hOjGXdKksTSX",
        "outputId": "ed5e1d93-17ab-42b8-e2ff-b9032d371214"
      },
      "execution_count": 3,
      "outputs": [
        {
          "output_type": "stream",
          "name": "stdout",
          "text": [
            "15\n",
            "30\n",
            "Provide at least two numbers!\n"
          ]
        }
      ]
    },
    {
      "cell_type": "code",
      "source": [
        "# 5. What are the three types of access modifiers in Python? How are they denoted?\n",
        "\n",
        "# Ans:-\n",
        "\n",
        "#1. Public:\n",
        "#Definition: Attributes and methods are accessible from anywhere, both inside and outside the class.\n",
        "\n",
        "#Example :-\n",
        "\n",
        "class Car:\n",
        "    def __init__(self, make, model):\n",
        "        self.make = make\n",
        "        self.model = model\n",
        "\n",
        "    def display_info(self):\n",
        "        print(f\"Car: {self.make} {self.model}\")\n",
        "\n",
        "car = Car(\"Toyota\", \"Corolla\")\n",
        "print(car.make)\n",
        "car.display_info()\n",
        "\n",
        "\n",
        "# 2. Protected:\n",
        "#Definition: Protected members are accessible within the class and its subclasses.\n",
        "#However, Python does not enforce strict protection, but it's a convention that indicates these members are intended for internal use.\n",
        "\n",
        "#Example:-\n",
        "\n",
        "class Car:\n",
        "    def __init__(self, make, model):\n",
        "        self._make = make\n",
        "        self._model = model\n",
        "\n",
        "    def _display_info(self):\n",
        "        print(f\"Car: {self._make} {_model}\")\n",
        "\n",
        "class SportsCar(Car):\n",
        "    def show(self):\n",
        "        print(f\"SportsCar: {self._make}\")\n",
        "\n",
        "car = Car(\"Toyota\", \"Corolla\")\n",
        "print(car._make)\n",
        "\n",
        "\n",
        "#3. Private:\n",
        "# Definition: Private members are intended to be inaccessible outside the class,\n",
        "# and Python uses name mangling to make it harder to access these members from outside the class.\n",
        "\n",
        "#Example :-\n",
        "\n",
        "class Car:\n",
        "    def __init__(self, make, model):\n",
        "        self.__make = make\n",
        "        self.__model = model\n",
        "\n",
        "    def __display_info(self):\n",
        "        print(f\"Car: {self.__make} {self.__model}\")\n",
        "\n",
        "    def show(self):\n",
        "        print(f\"Private Car Info: {self.__make} {self.__model}\")\n",
        "\n",
        "car = Car(\"Toyota\", \"Corolla\")\n",
        "car.show()\n"
      ],
      "metadata": {
        "colab": {
          "base_uri": "https://localhost:8080/"
        },
        "id": "sMzN3w_eu_Y2",
        "outputId": "6534efc6-5fdf-42b9-a691-e70d0df762ab"
      },
      "execution_count": 5,
      "outputs": [
        {
          "output_type": "stream",
          "name": "stdout",
          "text": [
            "Toyota\n",
            "Car: Toyota Corolla\n",
            "Toyota\n",
            "Private Car Info: Toyota Corolla\n"
          ]
        }
      ]
    },
    {
      "cell_type": "code",
      "source": [
        "# 6. Describe the five types of inheritance in Python. Provide a simple example of multiple inheritance.\n",
        "\n",
        "#Ans:-\n",
        "\n",
        "# 1. Single Inheritance:\n",
        "#Definition: A class inherits from one parent class.\n",
        "\n",
        "#Example :-\n",
        "class Animal:\n",
        "    def speak(self):\n",
        "        print(\"Animal speaks\")\n",
        "\n",
        "class Dog(Animal):\n",
        "    pass\n",
        "\n",
        "dog = Dog()\n",
        "dog.speak()  # Output: Animal speaks\n",
        "\n",
        "# 2.  Multiple Inheritance:\n",
        "#Definition: A class inherits from more than one parent class. The child class gains attributes and methods from all parent classes.\n",
        "\n",
        "#Example:-\n",
        "\n",
        "class Bird:\n",
        "    def fly(self):\n",
        "        print(\"Bird can fly\")\n",
        "\n",
        "class Fish:\n",
        "    def swim(self):\n",
        "        print(\"Fish can swim\")\n",
        "\n",
        "class FlyingFish(Bird, Fish):\n",
        "    pass\n",
        "\n",
        "ff = FlyingFish()\n",
        "ff.fly()\n",
        "ff.swim()\n",
        "\n",
        "# 3. Multilevel Inheritance:\n",
        "#Definition: A class is derived from a class which is also derived from another class (i.e., a chain of inheritance).\n",
        "\n",
        "#Example:-\n",
        "\n",
        "class Animal:\n",
        "    def speak(self):\n",
        "        print(\"Animal speaks\")\n",
        "\n",
        "class Dog(Animal):\n",
        "    def bark(self):\n",
        "        print(\"Dog barks\")\n",
        "\n",
        "class Puppy(Dog):\n",
        "    def whimper(self):\n",
        "        print(\"Puppy whimpers\")\n",
        "\n",
        "puppy = Puppy()\n",
        "puppy.speak()\n",
        "puppy.bark()\n",
        "puppy.whimper()\n",
        "\n",
        "# 4. Hierarchical Inheritance:\n",
        "#Definition: Multiple classes inherit from a single parent class. Each subclass gets the properties and methods of the parent class.\n",
        "\n",
        "#Example:-\n",
        "\n",
        "class Animal:\n",
        "    def speak(self):\n",
        "        print(\"Animal speaks\")\n",
        "\n",
        "class Dog(Animal):\n",
        "    def bark(self):\n",
        "        print(\"Dog barks\")\n",
        "\n",
        "class Cat(Animal):\n",
        "    def meow(self):\n",
        "        print(\"Cat meows\")\n",
        "\n",
        "dog = Dog()\n",
        "cat = Cat()\n",
        "\n",
        "dog.speak()\n",
        "dog.bark()\n",
        "cat.speak()\n",
        "cat.meow()\n",
        "\n",
        "# 5. Hybrid Inheritance:\n",
        "# Definition: A combination of more than one type of inheritance, such as multiple inheritance and hierarchical inheritance.\n",
        "\n",
        "#Example:-\n",
        "\n",
        "class Animal:\n",
        "    def speak(self):\n",
        "        print(\"Animal speaks\")\n",
        "\n",
        "class Bird(Animal):\n",
        "    def fly(self):\n",
        "        print(\"Bird flies\")\n",
        "\n",
        "class Fish(Animal):\n",
        "    def swim(self):\n",
        "        print(\"Fish swims\")\n",
        "\n",
        "class Penguin(Bird, Fish):\n",
        "    pass\n",
        "\n",
        "penguin = Penguin()\n",
        "penguin.speak()\n",
        "penguin.fly()\n",
        "penguin.swim()"
      ],
      "metadata": {
        "colab": {
          "base_uri": "https://localhost:8080/"
        },
        "id": "Y_n5geAQyMdt",
        "outputId": "76a27a33-01d9-4633-929a-8b3f4529f3ab"
      },
      "execution_count": 6,
      "outputs": [
        {
          "output_type": "stream",
          "name": "stdout",
          "text": [
            "Animal speaks\n",
            "Bird can fly\n",
            "Fish can swim\n",
            "Animal speaks\n",
            "Dog barks\n",
            "Puppy whimpers\n",
            "Animal speaks\n",
            "Dog barks\n",
            "Animal speaks\n",
            "Cat meows\n",
            "Animal speaks\n",
            "Bird flies\n",
            "Fish swims\n"
          ]
        }
      ]
    },
    {
      "cell_type": "code",
      "source": [
        "# 7. What is the Method Resolution Order (MRO) in Python? How can you retrieve it programmatically?\n",
        "\n",
        "#Ans:- The Method Resolution Order (MRO) is the order in which Python looks for a method or attribute in a hierarchy of classes.\n",
        "#When a method is called on an object, Python searches for the method in the current class, and if it’s not found, it moves to the parent classes according to the MRO.\n",
        "#This is particularly important in cases of multiple inheritance, where a class inherits from more than one parent.\n",
        "\n",
        "#Example :-\n",
        "\n",
        "class A:\n",
        "    def do_something(self):\n",
        "        print(\"A's method\")\n",
        "\n",
        "class B(A):\n",
        "    def do_something(self):\n",
        "        print(\"B's method\")\n",
        "\n",
        "class C(A):\n",
        "    def do_something(self):\n",
        "        print(\"C's method\")\n",
        "\n",
        "class D(B, C):\n",
        "    pass\n",
        "\n",
        "d = D()\n",
        "d.do_something()\n",
        "\n",
        "# Retrieve the MRO Programmatically:-\n",
        "\n",
        "# 1.The mro() method: Every class in Python has an mro() method that returns the MRO as a list of classes.\n",
        "\n",
        "print(D.mro())\n",
        "\n",
        "# 2.The __mro__ attribute: You can also access the __mro__ attribute directly to get the same result.\n",
        "\n",
        "print(D.__mro__)\n"
      ],
      "metadata": {
        "colab": {
          "base_uri": "https://localhost:8080/"
        },
        "id": "7tKW1eeQ0Rjv",
        "outputId": "668e2d09-ff6c-41a3-b17e-929edfbf3d60"
      },
      "execution_count": 8,
      "outputs": [
        {
          "output_type": "stream",
          "name": "stdout",
          "text": [
            "B's method\n",
            "[<class '__main__.D'>, <class '__main__.B'>, <class '__main__.C'>, <class '__main__.A'>, <class 'object'>]\n",
            "(<class '__main__.D'>, <class '__main__.B'>, <class '__main__.C'>, <class '__main__.A'>, <class 'object'>)\n"
          ]
        }
      ]
    },
    {
      "cell_type": "code",
      "source": [
        "# 8. Create an abstract base class `Shape` with an abstract method `area()`. Then create two subclasses `Circle` and `Rectangle` that implement the `area()` method.\n",
        "\n",
        "#Ans:-\n",
        "\n",
        "from abc import ABC, abstractmethod\n",
        "import math\n",
        "\n",
        "\n",
        "class Shape(ABC):\n",
        "    @abstractmethod\n",
        "    def area(self):\n",
        "        pass\n",
        "\n",
        "\n",
        "class Circle(Shape):\n",
        "    def __init__(self, radius):\n",
        "        self.radius = radius\n",
        "\n",
        "\n",
        "    def area(self):\n",
        "        return math.pi * self.radius ** 2\n",
        "\n",
        "class Rectangle(Shape):\n",
        "    def __init__(self, width, height):\n",
        "        self.width = width\n",
        "        self.height = height\n",
        "\n",
        "\n",
        "    def area(self):\n",
        "        return self.width * self.height\n",
        "\n",
        "\n",
        "circle = Circle(5)\n",
        "print(f\"Circle area: {circle.area():.2f}\")  # Output: Circle area: 78.54\n",
        "\n",
        "rectangle = Rectangle(4, 6)\n",
        "print(f\"Rectangle area: {rectangle.area()}\")  # Output: Rectangle area: 24\n"
      ],
      "metadata": {
        "colab": {
          "base_uri": "https://localhost:8080/"
        },
        "id": "SDGu72o428Ge",
        "outputId": "dd5cd1ed-de15-48e3-e7c7-9ba450c214d2"
      },
      "execution_count": 9,
      "outputs": [
        {
          "output_type": "stream",
          "name": "stdout",
          "text": [
            "Circle area: 78.54\n",
            "Rectangle area: 24\n"
          ]
        }
      ]
    },
    {
      "cell_type": "code",
      "source": [
        "# 9.Demonstrate polymorphism by creating a function that can work with different shape objects to calculate and print their areas.\n",
        "\n",
        "# Ans:-\n",
        "\n",
        "from abc import ABC, abstractmethod\n",
        "import math\n",
        "\n",
        "\n",
        "class Shape(ABC):\n",
        "    @abstractmethod\n",
        "    def area(self):\n",
        "        pass\n",
        "\n",
        "\n",
        "class Circle(Shape):\n",
        "    def __init__(self, radius):\n",
        "        self.radius = radius\n",
        "\n",
        "    def area(self):\n",
        "        return math.pi * self.radius ** 2\n",
        "\n",
        "\n",
        "class Rectangle(Shape):\n",
        "    def __init__(self, width, height):\n",
        "        self.width = width\n",
        "        self.height = height\n",
        "\n",
        "    def area(self):\n",
        "        return self.width * self.height\n",
        "\n",
        "\n",
        "def print_area(shape):\n",
        "    print(f\"The area is: {shape.area()}\")\n",
        "\n",
        "\n",
        "circle = Circle(5)\n",
        "rectangle = Rectangle(4, 6)\n",
        "\n",
        "\n",
        "print_area(circle)\n",
        "print_area(rectangle)\n",
        "\n"
      ],
      "metadata": {
        "colab": {
          "base_uri": "https://localhost:8080/"
        },
        "id": "94bMBBTL381_",
        "outputId": "862e7918-1781-46ab-d79f-0b1cbec7b5bf"
      },
      "execution_count": 10,
      "outputs": [
        {
          "output_type": "stream",
          "name": "stdout",
          "text": [
            "The area is: 78.53981633974483\n",
            "The area is: 24\n"
          ]
        }
      ]
    },
    {
      "cell_type": "code",
      "source": [
        "# 10. Implement encapsulation in a `BankAccount` class with private attributes for `balance` and `account_number`. Include methods for deposit, withdrawal, and balance inquiry\n",
        "\n",
        "#Ans:-\n",
        "\n",
        "class BankAccount:\n",
        "    def __init__(self, account_number, initial_balance):\n",
        "        self.__account_number = account_number\n",
        "        self.__balance = initial_balance\n",
        "\n",
        "    def deposit(self, amount):\n",
        "        if amount > 0:\n",
        "            self.__balance += amount\n",
        "            print(f\"Deposited ${amount}. New balance: ${self.__balance}.\")\n",
        "        else:\n",
        "            print(\"Deposit amount must be positive.\")\n",
        "\n",
        "    def withdraw(self, amount):\n",
        "        if amount > 0:\n",
        "            if amount <= self.__balance:\n",
        "                self.__balance -= amount\n",
        "                print(f\"Withdrew ${amount}. New balance: ${self.__balance}.\")\n",
        "            else:\n",
        "                print(\"Insufficient funds.\")\n",
        "        else:\n",
        "            print(\"Withdrawal amount must be positive.\")\n",
        "\n",
        "    def get_balance(self):\n",
        "        return self.__balance\n",
        "\n",
        "    def get_account_number(self):\n",
        "        return self.__account_number\n",
        "\n",
        "\n",
        "account = BankAccount(\"12345678\", 1000)\n",
        "\n",
        "print(f\"Account Number: {account.get_account_number()}\")\n",
        "print(f\"Initial Balance: ${account.get_balance()}\")\n",
        "\n",
        "account.deposit(500)\n",
        "account.withdraw(200)\n",
        "account.withdraw(1500)\n",
        "print(f\"Final Balance: ${account.get_balance()}\")\n"
      ],
      "metadata": {
        "colab": {
          "base_uri": "https://localhost:8080/"
        },
        "id": "y8MCQub742Th",
        "outputId": "88174ae7-147d-4ceb-eb2e-4e12fbac5e38"
      },
      "execution_count": 11,
      "outputs": [
        {
          "output_type": "stream",
          "name": "stdout",
          "text": [
            "Account Number: 12345678\n",
            "Initial Balance: $1000\n",
            "Deposited $500. New balance: $1500.\n",
            "Withdrew $200. New balance: $1300.\n",
            "Insufficient funds.\n",
            "Final Balance: $1300\n"
          ]
        }
      ]
    },
    {
      "cell_type": "code",
      "source": [
        "# 11. Write a class that overrides the `__str__` and `__add__` magic methods. What will these methods allow you to do?\n",
        "\n",
        "#Ans:- Here's an example of a class that overrides both __str__ and __add__ magic methods:-\n",
        "\n",
        "class Vector:\n",
        "    def __init__(self, x, y):\n",
        "        self.x = x\n",
        "        self.y = y\n",
        "\n",
        "    def __str__(self):\n",
        "        return f\"Vector({self.x}, {self.y})\"\n",
        "\n",
        "    def __add__(self, other):\n",
        "        if isinstance(other, Vector):\n",
        "            return Vector(self.x + other.x, self.y + other.y)\n",
        "        return NotImplemented\n",
        "\n",
        "\n",
        "v1 = Vector(2, 3)\n",
        "v2 = Vector(4, 1)\n",
        "\n",
        "print(v1)\n",
        "print(v2)\n",
        "\n",
        "v3 = v1 + v2\n",
        "print(v3)\n",
        "\n",
        "\n"
      ],
      "metadata": {
        "colab": {
          "base_uri": "https://localhost:8080/"
        },
        "id": "0X4t1ty45ZOu",
        "outputId": "18a287fe-17c9-44a5-e7a3-df4dbab302e9"
      },
      "execution_count": 12,
      "outputs": [
        {
          "output_type": "stream",
          "name": "stdout",
          "text": [
            "Vector(2, 3)\n",
            "Vector(4, 1)\n",
            "Vector(6, 4)\n"
          ]
        }
      ]
    },
    {
      "cell_type": "code",
      "source": [
        "# 12. Create a decorator that measures and prints the execution time of a function.\n",
        "\n",
        "#Ans :-\n",
        "\n",
        "import time\n",
        "\n",
        "def measure_time(func):\n",
        "    def wrapper(*args, **kwargs):\n",
        "        start_time = time.time()\n",
        "        result = func(*args, **kwargs)\n",
        "        end_time = time.time()\n",
        "        execution_time = end_time - start_time\n",
        "        print(f\"Function '{func.__name__}' took {execution_time:.4f} seconds to execute.\")\n",
        "        return result\n",
        "    return wrapper\n",
        "\n",
        "\n",
        "@measure_time\n",
        "def slow_function(seconds):\n",
        "    time.sleep(seconds)\n",
        "\n",
        "\n",
        "slow_function(2)\n"
      ],
      "metadata": {
        "colab": {
          "base_uri": "https://localhost:8080/"
        },
        "id": "RJ_8MQTT6Ds8",
        "outputId": "a96633ab-7bed-411c-a6f0-63736bdb92f5"
      },
      "execution_count": 13,
      "outputs": [
        {
          "output_type": "stream",
          "name": "stdout",
          "text": [
            "Function 'slow_function' took 2.0022 seconds to execute.\n"
          ]
        }
      ]
    },
    {
      "cell_type": "code",
      "source": [
        "# 13.Explain the concept of the Diamond Problem in multiple inheritance. How does Python resolve it?\n",
        "\n",
        "#Ans:-The Diamond Problem is a classic issue that occurs in multiple inheritance scenarios in object-oriented programming.\n",
        "#It arises when a class inherits from two classes that both inherit from a common base class, creating a diamond-shaped inheritance diagram.\n",
        "#The problem is that there can be ambiguity in method resolution, specifically which method or attribute is inherited from the common ancestor.\n",
        "\n",
        "#Example:-\n",
        "\n",
        "class A:\n",
        "    def method(self):\n",
        "        print(\"Method in A\")\n",
        "\n",
        "class B(A):\n",
        "    def method(self):\n",
        "        print(\"Method in B\")\n",
        "\n",
        "class C(A):\n",
        "    def method(self):\n",
        "        print(\"Method in C\")\n",
        "\n",
        "class D(B, C):\n",
        "    pass\n",
        "\n",
        "d = D()\n",
        "d.method()  #\n",
        "\n",
        "\n",
        "print(D.mro())\n",
        "\n",
        "\n"
      ],
      "metadata": {
        "colab": {
          "base_uri": "https://localhost:8080/"
        },
        "id": "ojzFLW347WKt",
        "outputId": "bfbe8fc6-cfbe-4f64-b9f0-eced1844c38d"
      },
      "execution_count": 14,
      "outputs": [
        {
          "output_type": "stream",
          "name": "stdout",
          "text": [
            "Method in B\n",
            "[<class '__main__.D'>, <class '__main__.B'>, <class '__main__.C'>, <class '__main__.A'>, <class 'object'>]\n"
          ]
        }
      ]
    },
    {
      "cell_type": "code",
      "source": [
        "# 14. Write a class method that keeps track of the number of instances created from a class.\n",
        "\n",
        "# Ans:-\n",
        "class InstanceCounter:\n",
        "\n",
        "    _instance_count = 0\n",
        "\n",
        "    def __init__(self):\n",
        "\n",
        "        InstanceCounter._instance_count += 1\n",
        "\n",
        "    @classmethod\n",
        "    def get_instance_count(cls):\n",
        "\n",
        "        return cls._instance_count\n",
        "\n",
        "obj1 = InstanceCounter()\n",
        "obj2 = InstanceCounter()\n",
        "obj3 = InstanceCounter()\n",
        "\n",
        "print(f\"Number of instances created: {InstanceCounter.get_instance_count()}\")\n",
        "\n"
      ],
      "metadata": {
        "colab": {
          "base_uri": "https://localhost:8080/"
        },
        "id": "iYELFZbW9Awo",
        "outputId": "ff65a908-c9f8-4538-e343-78438a9a3810"
      },
      "execution_count": 15,
      "outputs": [
        {
          "output_type": "stream",
          "name": "stdout",
          "text": [
            "Number of instances created: 3\n"
          ]
        }
      ]
    },
    {
      "cell_type": "code",
      "source": [
        "# 15. Implement a static method in a class that checks if a given year is a leap year.\n",
        "\n",
        "#Ans:-\n",
        "\n",
        "year = 2022\n",
        "if year % 4 == 0:\n",
        "    if year % 100 == 0:\n",
        "        if year % 400 == 0:\n",
        "            print(f\"{year} is a leap year.\")\n",
        "        else:\n",
        "            print(f\"{year} is not a leap year.\")\n",
        "    else:\n",
        "        print(f\"{year} is a leap year.\")\n",
        "else:\n",
        "    print(f\"{year} is not a leap year.\")\n"
      ],
      "metadata": {
        "colab": {
          "base_uri": "https://localhost:8080/"
        },
        "id": "zGxWP5ZJ9U5H",
        "outputId": "71abe351-9f32-4bac-b2f4-e4b71fae75b3"
      },
      "execution_count": 16,
      "outputs": [
        {
          "output_type": "stream",
          "name": "stdout",
          "text": [
            "2022 is not a leap year.\n"
          ]
        }
      ]
    }
  ]
}